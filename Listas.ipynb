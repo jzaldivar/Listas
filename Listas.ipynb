{
 "cells": [
  {
   "cell_type": "markdown",
   "metadata": {},
   "source": [
    "# Datos estructurados &mdash; Listas"
   ]
  },
  {
   "cell_type": "markdown",
   "metadata": {},
   "source": [
    "<div style=\"text-align: right\">\n",
    "    <em>When you make the finding yourself &mdash;even if you're the last person on Earth to\n",
    "        see the light&mdash; you'll never forget it.</em><br>\n",
    "    &mdash;Carl Sagan\n",
    "</div>"
   ]
  },
  {
   "cell_type": "markdown",
   "metadata": {},
   "source": [
    "En general, podemos tener dos clases de tipos de datos:\n",
    "\n",
    "- Tipo de datos simples (o primitivos) y\n",
    "- Tipo de datos estructurados.\n",
    "\n",
    "Los tipos de datos simples pueden contener un solo valor en un momento dado, en el momento en que se les asigna un nuevo valor, el valor anterior se pierde."
   ]
  },
  {
   "cell_type": "code",
   "execution_count": null,
   "metadata": {},
   "outputs": [],
   "source": [
    "velocidad = 25\n",
    "velocidad"
   ]
  },
  {
   "cell_type": "code",
   "execution_count": null,
   "metadata": {},
   "outputs": [],
   "source": [
    "velocidad = 50\n",
    "velocidad"
   ]
  },
  {
   "cell_type": "markdown",
   "metadata": {},
   "source": [
    "A diferencia de esto, los tipos de datos estructurados, permiten almacenar varios valores al mismo tiempo. Esto permite manejar el conjunto de datos como una unidad. También, a través de la *estructura* propia de cada tipo, es posible acceder a los valores individuales almacenados.\n",
    "\n",
    "| Tipo de dato | Ejemplos |\n",
    "|:-|:-|\n",
    "| Simple | `int`, `float`, `str`, `bool` |\n",
    "| Estructurado | `list`, `tuple`, `dict`, `set`, `frozenset` |\n",
    "\n",
    "## Listas\n",
    "\n",
    "El tipo de datos estructurado básico de Python es la *lista* (`list`). Una lista es una secuencia ordenada de datos, que pueden ser de cualquier tipo, y se indican como una lista de expresiones separadas por comas y entre corchetes. Cada una de las expresiones se convierte en un *elemento* de la lista.\n",
    "\n",
    "Documentación oficial de las listas: https://docs.python.org/3/tutorial/datastructures.html"
   ]
  },
  {
   "cell_type": "code",
   "execution_count": null,
   "metadata": {},
   "outputs": [],
   "source": [
    "alumnos = [\"Hugo\", \"Paco\", \"Luis\"]\n",
    "calificaciones = [90, 75, 80]\n",
    "print(alumnos, calificaciones)"
   ]
  },
  {
   "cell_type": "markdown",
   "metadata": {},
   "source": [
    "El tamaño o longitud de una lista es el número de elementos que tiene y se obtiene con la función `len`."
   ]
  },
  {
   "cell_type": "code",
   "execution_count": null,
   "metadata": {},
   "outputs": [],
   "source": [
    "len(alumnos)"
   ]
  },
  {
   "source": [
    "<div class=\"alert alert-block alert-info\">\n",
    "    <b>Ejercicio</b>: Crea (y muestra) una lista <code>equipo</code> y asígnale los nombres de tus compañeros de equipo para el proyecto. Muestra también la longitud de la lista.\n",
    "</div>"
   ],
   "cell_type": "markdown",
   "metadata": {}
  },
  {
   "cell_type": "code",
   "execution_count": null,
   "metadata": {},
   "outputs": [],
   "source": []
  },
  {
   "cell_type": "markdown",
   "metadata": {},
   "source": [
    "En los ejemplos anteriores, las listas han sido *homogéneas*, es decir, todos sus elementos son del mismo tipo (`str` para la lista `alumnos`, e `int` para la lista `calificaciones`). \n",
    "\n",
    "Esto no es un requisito, los elementos de una lista pueden ser de diferente tipo (listas *heterogéneas*)."
   ]
  },
  {
   "cell_type": "code",
   "execution_count": null,
   "metadata": {},
   "outputs": [],
   "source": [
    "# El primer elemento de la lista es el nombre, el segundo la calificación\n",
    "# y el tercero si tiene derecho a examen ordinario\n",
    "alumno1 = [\"Hugo\", 90, True]\n",
    "alumno1"
   ]
  },
  {
   "cell_type": "markdown",
   "metadata": {},
   "source": [
    "<div class=\"alert alert-block alert-info\">\n",
    "    <b>Ejercicio</b>: Crea (y muestra) una lista heterogénea donde el primer elemento sea tu nombre; el segundo, la ciudad donde naciste; el tercero, tu estatura en metros, y el cuarto, tu sabor favorito de helado.\n",
    "</div>"
   ]
  },
  {
   "cell_type": "code",
   "execution_count": null,
   "metadata": {},
   "outputs": [],
   "source": []
  },
  {
   "cell_type": "markdown",
   "metadata": {},
   "source": [
    "No solo eso, sino que los elementos de una lista pueden ser de *cualquier* tipo, es decir, pueden ser también listas."
   ]
  },
  {
   "cell_type": "code",
   "execution_count": null,
   "metadata": {},
   "outputs": [],
   "source": [
    "grupo = [[\"Hugo\", 90, True], [\"Paco\", 75, True], [\"Luis\", 80, False]]\n",
    "grupo"
   ]
  },
  {
   "cell_type": "markdown",
   "metadata": {},
   "source": [
    "Esta misma lista se puede construir a partir de variables que son listas."
   ]
  },
  {
   "cell_type": "code",
   "execution_count": null,
   "metadata": {},
   "outputs": [],
   "source": [
    "hugo = [\"Hugo\", 90, True]\n",
    "paco = [\"Paco\", 75, True]\n",
    "luis = ['Luis', 80, False]\n",
    "grupo = [hugo, paco, luis]\n",
    "grupo"
   ]
  },
  {
   "cell_type": "markdown",
   "metadata": {},
   "source": [
    "<div class=\"alert alert-block alert-info\">\n",
    "    <b>Ejercicio</b>: Crea (y muestra) una lista de listas con la composición de tu familia.<p>\n",
    "    Cada elemento de la lista principal es una lista que representa a un miembro de la familia, y la lista de cada miembro incluye, como primer elemento, el nombre y, como segundo elemento, su papel en la familia (papá, mamá, hermano, tú, mascota, etc.).<p>\n",
    "    Si se te hace más fácil, primero asigna las listas internas a variables y luego haz la lista `familia`.<p>\n",
    "<code>papa = [...]\n",
    " mama = [...]\n",
    " etc...\n",
    " familia = [...]\n",
    "</code>\n",
    "</div>"
   ]
  },
  {
   "cell_type": "code",
   "execution_count": null,
   "metadata": {},
   "outputs": [],
   "source": []
  },
  {
   "cell_type": "markdown",
   "metadata": {},
   "source": [
    "## Operadores de listas\n",
    "\n",
    "El operador `+` se puede usar para concatenar listas y el operador `*` para replicarlas."
   ]
  },
  {
   "cell_type": "code",
   "execution_count": null,
   "metadata": {},
   "outputs": [],
   "source": [
    "lista_1 = [1, 2, 3]\n",
    "lista_2 = [9, 10, 11, 12, \"a\", \"b\"]\n",
    "lista_3 = lista_1 + lista_2\n",
    "print(\"lista_3 = \", lista_3)\n",
    "\n",
    "lista_4 = lista_1 * 2 + lista_2\n",
    "print(\"lista_4 = \", lista_4)"
   ]
  },
  {
   "cell_type": "markdown",
   "metadata": {},
   "source": [
    "<div class=\"alert alert-block alert-info\">\n",
    "    <b>Ejercicio</b>: Crea cualquier par de listas y concaténalas. Luego, replica la primera lista 10 veces. Muestra el resultado de ambas operaciones.\n",
    "</div>"
   ]
  },
  {
   "cell_type": "code",
   "execution_count": null,
   "metadata": {},
   "outputs": [],
   "source": []
  },
  {
   "attachments": {
    "image.png": {
     "image/png": "[encoded data removed]"
    }
   },
   "cell_type": "markdown",
   "metadata": {},
   "source": [
    "# Indexado de listas\n",
    "\n",
    "La *estructura* que tienen las listas (y que permite acceder a sus elementos individuales) es su orden. De acuerdo con ese orden, a cada uno de sus elementos le corresponde un índice. Así, al primer elemento le corresponde el índice `0`; al segundo, el `1`, y así, sucesivamente.\n",
    "\n",
    "![image.png](attachment:image.png)\n",
    "\n",
    "Para acceder aun elemento individual, se indica el nombre de la lista y, enseguida, entre corchetes, el número de elemento."
   ]
  },
  {
   "cell_type": "code",
   "execution_count": null,
   "metadata": {},
   "outputs": [],
   "source": [
    "alumnos[0]"
   ]
  },
  {
   "attachments": {
    "image.png": {
     "image/png": "[encoded data removed]"
    }
   },
   "cell_type": "markdown",
   "metadata": {},
   "source": [
    "Se permite también el indexado negativo, en donde el elemento `-1` es el último; el `-2`, el penúltimo, y así sucesivamente.\n",
    "\n",
    "![image.png](attachment:image.png)"
   ]
  },
  {
   "cell_type": "code",
   "execution_count": null,
   "metadata": {},
   "outputs": [],
   "source": [
    "calificaciones[-1]"
   ]
  },
  {
   "cell_type": "markdown",
   "metadata": {},
   "source": [
    "# *Slicing* de listas\n",
    "\n",
    "Igualmente, se puede acceder a secuencias de elementos contíguos utilizando dos índices: inicial y final, que se escriben dentro de los corchetes separados por dos puntos (`:`). \n",
    "\n",
    "Se debe tomar en cuenta que el elemento en la posición final ***no*** se incluye en la secuencia regresada."
   ]
  },
  {
   "cell_type": "code",
   "execution_count": null,
   "metadata": {},
   "outputs": [],
   "source": [
    "comunidad = [\"Gandalf\", \"Frodo\", \"Sam\", \"Aragorn\", \"Legolas\", \"Gimli\", \"Pippin\", \"Merry\", \"Boromir\"]\n",
    "comunidad[2:5]   # Incluye los elementos en las posiciones 2, 3, y 4, pero no el de la 5"
   ]
  },
  {
   "cell_type": "markdown",
   "metadata": {},
   "source": [
    "<div class=\"alert alert-block alert-info\">\n",
    "    <b>Ejercicio</b>: Completa el código de  la siguiente celda de acuerdo con lo que se indica.\n",
    "</div>"
   ]
  },
  {
   "cell_type": "code",
   "execution_count": null,
   "metadata": {},
   "outputs": [],
   "source": [
    "# El primer elemento\n",
    "print(\"Primero:\", comunidad[])\n",
    "\n",
    "# El penúltimo elemento, usando indexado negativo\n",
    "print(\"Penúltimo:\", comunidad[])\n",
    "\n",
    "# La secuencia desde Legolas hasta Merry (incluyéndolos), con slicing\n",
    "print(comunidad)\n",
    "\n",
    "# Toda la lista, eliminando el primer y el último elemento, con slicing\n",
    "print()"
   ]
  },
  {
   "cell_type": "markdown",
   "metadata": {},
   "source": [
    "Para acceder a elementos no contíguos de la lista, pero espaciados regularmente, se puede utilizar un tercer entero, después de otros dos puntos (`:`), que indica el *paso* (cada cuántos elementos regresar)."
   ]
  },
  {
   "cell_type": "code",
   "execution_count": null,
   "metadata": {},
   "outputs": [],
   "source": [
    "numeros = [1, 2, 3, 4, 5, 6, 7, 8, 9, 10, 11, 12, 13, 14, 15]\n",
    "numeros[1:12:3]"
   ]
  },
  {
   "cell_type": "markdown",
   "metadata": {},
   "source": [
    "Si se omite cualquiera de los tres índices del *slicing* (inicio, fin y/o paso), se usan valores predeterminados:\n",
    "\n",
    "- Inicio omitido: Tomar desde el principio\n",
    "- Final omitido: Tomar hasta el final\n",
    "- Paso omitido: Tomar de uno en uno, que es lo más usual"
   ]
  },
  {
   "cell_type": "code",
   "execution_count": null,
   "metadata": {},
   "outputs": [],
   "source": [
    "print(\"Los primeros tres:\", comunidad[:3])\n",
    "print(\"Los últimos cuatro:\", comunidad[-4:])"
   ]
  },
  {
   "cell_type": "markdown",
   "metadata": {},
   "source": [
    "Para indexar listas dentro de listas, hay que usar dos índices, cada uno dentro de sus propios corchetes, el primero se refiere a la lista \"exterior\", y el segundo, a la \"interior\". \n",
    "\n",
    "En el siguiente ejemplo, tenemos una lista donde cada personaje está representad por una lista que indica su nombre y su raza. Para conocer la raza del ***quinto*** integrante de la comunidad, podemos usar:"
   ]
  },
  {
   "cell_type": "code",
   "execution_count": null,
   "metadata": {},
   "outputs": [],
   "source": [
    "comunidad2 = [\n",
    "    [\"Gandalf\", \"mago\"],\n",
    "    [\"Frodo\", \"hobbit\"],\n",
    "    [\"Sam\", \"hobbit\"],\n",
    "    [\"Aragorn\", \"humano\"],\n",
    "    [\"Legolas\", \"elfo\"],\n",
    "    [\"Gimli\", \"enano\"],\n",
    "    [\"Pippin\", \"hobbit\"],\n",
    "    [\"Merry\", \"hobbit\"],\n",
    "    [\"Boromir\", \"humano\"]\n",
    "]\n",
    "nombre = comunidad2[4][0]\n",
    "raza = comunidad2[4][1]\n",
    "print(f\"La raza de {nombre} es {raza}.\")"
   ]
  },
  {
   "cell_type": "markdown",
   "metadata": {},
   "source": [
    "Si se facilita, se puede utilizar una variable intermedia para extraer la lista interior y, así, utilizar solamente un índice cada vez."
   ]
  },
  {
   "cell_type": "code",
   "execution_count": null,
   "metadata": {},
   "outputs": [],
   "source": [
    "personaje = comunidad2[4]\n",
    "nombre = personaje[0]\n",
    "raza = personaje[1]\n",
    "print(f\"La raza de {nombre} es {raza}.\")"
   ]
  },
  {
   "cell_type": "markdown",
   "metadata": {},
   "source": [
    "<div class=\"alert alert-block alert-info\">\n",
    "    <b>Ejercicio</b>: Utilizando la lista <code>familia</code> que hiciste, añade, para cada integrante, el dato de su edad y, luego, imprime un mensaje del tipo: \"Fulanito es mi hermano y tiene 7 años\".\n",
    "</div>"
   ]
  },
  {
   "cell_type": "code",
   "execution_count": null,
   "metadata": {},
   "outputs": [],
   "source": [
    "familia = [\n",
    "    [\"Pedro\", \"papá\", 100],\n",
    "    ...\n",
    "]\n",
    "print(f\"{}{}{}\")"
   ]
  },
  {
   "cell_type": "markdown",
   "metadata": {},
   "source": [
    "## Modificando los elementos de una lista\n",
    "\n",
    "Las listas son ***mutables***, es decir, es posible modificar sus elementos individuales. Esto se hace mediante una simple asignación."
   ]
  },
  {
   "cell_type": "code",
   "execution_count": null,
   "metadata": {},
   "outputs": [],
   "source": [
    "los_4F = [\"Reed Richard\", \"Sue Storm\", \"Tony Stark\", \"Ben Grimm\"]\n",
    "print(\"Lista original: \", los_4F)\n",
    "# ¡Ups!\n",
    "los_4F[2] = \"Johny Storm\"\n",
    "print(\"Lista corregida:\", los_4F)"
   ]
  },
  {
   "cell_type": "markdown",
   "metadata": {},
   "source": [
    "<div class=\"alert alert-block alert-info\">\n",
    "    <b>Ejercicio</b>: Escribe en la siguiente celda una instrucción de asignación para corregir el apellido de Reed. Debe ser \"Richards\", no \"Richard\". Muestra, al final, la lista corregida.\n",
    "</div>"
   ]
  },
  {
   "cell_type": "code",
   "execution_count": null,
   "metadata": {},
   "outputs": [],
   "source": []
  },
  {
   "cell_type": "markdown",
   "metadata": {},
   "source": [
    "Es posible, mediante una única asignación, reemplazar varios elementos contiguos en la lista, reemplazar un único elemento de una lista por más de un elemento, o reemplazar varios elementos contiguos en la lista por una cantidad diferente de elementos, haciendo la ***asignación a una slice*** de la lista en lugar de a un elemento."
   ]
  },
  {
   "cell_type": "code",
   "execution_count": null,
   "metadata": {},
   "outputs": [],
   "source": [
    "a = [0, 1, 2, 3, 4, 5, 6, 7, 8, 9]\n",
    "print(\"Original: a =\", a)\n",
    "a[5:7] = [500, 600]   # Reemplazar elementos 5 y 6\n",
    "print(\"Cambio 1: a =\", a)\n",
    "a[5:6] = [10, 20, 30]   # Reemplazar el elemento 5 por tres elementos\n",
    "print(\"Cambio 2: a =\", a)\n",
    "a[1:4] = [\"a\", \"b\"]   # Reemplazar tres elementos (1,2,3) por dos\n",
    "print(\"Cambio 3: a =\", a)"
   ]
  },
  {
   "cell_type": "markdown",
   "metadata": {},
   "source": [
    "<div class=\"alert alert-block alert-info\">\n",
    "    <b>Ejercicio</b>: Añade una instrucción de asignación en la siguiente celda para cambiar el elemento \"cebolla\" por los elementos \"mandarina\" y \"kiwi\". <b>No modifiques el código que ya está escrito</b>. Muestra, al final, la lista corregida.\n",
    "</div>"
   ]
  },
  {
   "cell_type": "code",
   "execution_count": null,
   "metadata": {},
   "outputs": [],
   "source": [
    "frutas = [\"manzana\", \"naranja\", \"pera\", \"cebolla\", \"sandía\", \"papaya\"]"
   ]
  },
  {
   "cell_type": "markdown",
   "metadata": {},
   "source": [
    "## Agregando elementos a la lista\n",
    "\n",
    "### `append`\n",
    "\n",
    "Se utiliza el método `append` para agregar elementos a la lista."
   ]
  },
  {
   "cell_type": "code",
   "execution_count": null,
   "metadata": {},
   "outputs": [],
   "source": [
    "avengers = [\"Capitán América\", \"Iron Man\", \"Hulk\"]\n",
    "avengers.append(\"Thor\")\n",
    "avengers"
   ]
  },
  {
   "cell_type": "markdown",
   "metadata": {},
   "source": [
    "Es común utilizar `append` para recibir un número variable de entradas del usuario, como en el siguiente ejemplo:"
   ]
  },
  {
   "cell_type": "code",
   "execution_count": null,
   "metadata": {},
   "outputs": [],
   "source": [
    "print(\"Introduzca a continuación los nombres de los alumnos.\")\n",
    "print(\"De [Enter] sin introducir un nombre para terminar.\")\n",
    "alumnos = []\n",
    "alumno = input(\"Nombre del alumno: \")\n",
    "while alumno != \"\":\n",
    "    alumnos.append(alumno)\n",
    "    alumno = input(\"Nombre del alumno: \")\n",
    "alumnos"
   ]
  },
  {
   "cell_type": "markdown",
   "metadata": {},
   "source": [
    "***Tip***: El ejemplo anterior muestra el uso de un valor *centinela*, un valor especial (en este caso, la cadena nula &mdash; `\"\"`) para indicar el fin de los datos.\n",
    "\n",
    "***Observación***: Debido a que el valor de la variable `alumno` es la que controla la ejecución del ciclo, la instrucción `input` que le asigna valor aparece duplicada en el código:\n",
    "\n",
    "- Una vez antes del inicio del ciclo, para obtener un valor inicial.\n",
    "- Otra vez dentro del ciclo, al final del mismo, ya que por cada ejecución del ciclo es necesario asignarle un nuevo valor."
   ]
  },
  {
   "cell_type": "markdown",
   "metadata": {},
   "source": [
    "### *Paréntesis opcional*: Expresiones de asignación\n",
    "\n",
    "Python 3.8 introdujo las expresiones de asignación y el operador *walrus* (`:=`). Esto nos permite, al mismo tiempo, asignar un valor a una variable y utilizarlo. Lo \"normal\" es que el valor ya exista antes de poderlo utilizar.\n",
    "\n",
    "Por ejemplo, haciendo uso de las expresiones de asignación, podemos cambiar nuestro código como sigue:"
   ]
  },
  {
   "cell_type": "code",
   "execution_count": null,
   "metadata": {},
   "outputs": [],
   "source": [
    "print(\"Introduzca a continuación los nombres de los alumnos.\")\n",
    "print(\"De [Enter] sin introducir un nombre para terminar.\")\n",
    "alumnos = []\n",
    "while (alumno := input(\"Nombre del alumno: \")) != \"\":\n",
    "    alumnos.append(alumno)\n",
    "alumnos"
   ]
  },
  {
   "cell_type": "markdown",
   "metadata": {},
   "source": [
    "<div class=\"alert alert-block alert-info\">\n",
    "    <b>Contesta</b>: ¿Qué fue lo que cambió entre el ejemplo de la celda de arriba y el anterior?\n",
    "</div>"
   ]
  },
  {
   "cell_type": "markdown",
   "metadata": {},
   "source": [
    "Respuesta: "
   ]
  },
  {
   "cell_type": "markdown",
   "metadata": {},
   "source": [
    "### *Paréntesis opcional*: Valores *truthy* y *falsy*\n",
    "\n",
    "El ejemplo podría simplificarse un poco más haciendo uso del hecho de que Python reconoce como condiciones no solo expresiones lógicas, sino expresiones que pueden interpretarse como `True` (*truthy*) o `False` (*falsy*), sin ser, propiamente, expresiones lógicas.\n",
    "\n",
    "En particular, a manera de ejemplo, la línea:\n",
    "```python\n",
    "while numero != 0:\n",
    "```\n",
    "Se puede reemplazar por:\n",
    "```python\n",
    "while numero:\n",
    "```\n",
    "Porque Python interpreta el valor `0` como *falsy* (equivalente a `False`) y cualquier otro valor numérico como *truthy* (equivalente a `True`).\n",
    "\n",
    "Igualmente, también a manera de ejemplo, las siguientes tres líneas son equivalentes:\n",
    "```python\n",
    "if cadena != \"\":\n",
    "    \n",
    "if len(cadena) > 0:\n",
    "    \n",
    "if cadena:\n",
    "```\n",
    "\n",
    "Porque, igualmente, Python interpreta la cadena vacía (`\"\"`) como *falsy* y cualquier otra cadena como *truthy*.\n",
    "\n",
    "La siguiente tabla muestra los valores *truthy* y *falsy*¨:\n",
    "\n",
    "| | |\n",
    "|:-|:-|\n",
    "| Valores *falsy*<br>(Se evalúan a `False`)| cero `0`, `0.0`<br>cadena nula `\"\"`<br>lista vacía `[]`<br>  (o cualquier secuencia o colección vacía)<br>constantes literales `None` y `False` |\n",
    "| Valores *truthy*<br>(Se evalúan a `True` | números diferentes de cero<br>secuencias o colecciones no vacías<br>constante literal `True`|"
   ]
  },
  {
   "cell_type": "markdown",
   "metadata": {},
   "source": [
    "En nuestro ejemplo de arriba, vamos a sustituir la instrucción:\n",
    "```python\n",
    "while alumno != \"\":\n",
    "```\n",
    "Por:\n",
    "```python\n",
    "while alumno:\n",
    "```\n",
    "Y quedaría:"
   ]
  },
  {
   "cell_type": "code",
   "execution_count": null,
   "metadata": {},
   "outputs": [],
   "source": [
    "print(\"Introduzca a continuación los nombres de los alumnos.\")\n",
    "print(\"De [Enter] sin introducir un nombre para terminar.\")\n",
    "alumnos = []\n",
    "while (alumno := input(\"Nombre del alumno: \")):\n",
    "    alumnos.append(alumno)\n",
    "alumnos"
   ]
  },
  {
   "cell_type": "markdown",
   "metadata": {},
   "source": [
    "<div class=\"alert alert-block alert-info\">\n",
    "    <b>Ejercicio</b>: Completa el código de la celda de abajo para construir una lista con las estaturas de una muestra de personas y, después, calcular el promedio.<br>\n",
    "    Para indicar el final de la entrada de datos, utilizaremos el valor centinela <code>-1</code>.\n",
    "</div>"
   ]
  },
  {
   "cell_type": "code",
   "execution_count": null,
   "metadata": {},
   "outputs": [],
   "source": [
    "# Calcular el promedio de estaturas de una cantidad variable de muestras\n",
    "print(\"A continuación,  introduzca, una a una, las estaturas a promediar.\")\n",
    "print(\"Después de haber capturado la última estatura, capture -1 cuando se le pregunte\")\n",
    "print(\"una nueva estatura.\")\n",
    "print()\n",
    "\n",
    "# Inicializar lista vacía\n",
    "\n",
    "# Introducir los datos\n",
    "\n",
    "# Calcular el promedio\n",
    "\n",
    "# Mostrar el resultado"
   ]
  },
  {
   "cell_type": "markdown",
   "metadata": {},
   "source": [
    "### Añadir elementos a una lista por concatenación\n",
    "\n",
    "El método `append` añade el nuevo dato al final de la lista. Es el método más común y eficiente.\n",
    "\n",
    "También se puede usar la concatenación para añadir datos al final de una lista. Con concatenación, se pueden añadir los elementos de uno en uno o de varios. \n",
    "\n",
    "Igualmente, se pueden usar los operadores de asignación modificados `+=` y `*=` con las listas."
   ]
  },
  {
   "cell_type": "code",
   "execution_count": null,
   "metadata": {},
   "outputs": [],
   "source": [
    "a = [0, 1, 2]\n",
    "b = [\"A\"]\n",
    "c = [\"x\", \"y\", 100]\n",
    "print(\"Original:           \", a)\n",
    "a += b   # Equivalente a: a = a + b\n",
    "print(\"Después de añadir b:\", a)\n",
    "a += c   # Equivalente a: a = a + c\n",
    "print(\"Después de añadir c:\", a)\n",
    "a *= 2   # Equivalente a: a = a * 2\n",
    "print(\"Después de duplicar:\", a)"
   ]
  },
  {
   "cell_type": "markdown",
   "metadata": {},
   "source": [
    "### `insert` y `extend`\n",
    "\n",
    "Otras formas de añadir datos a una lista son:\n",
    "\n",
    "- Método `insert`: Agrega un elemento en una posición determinada\n",
    "- Método `extend`: Agrega los elementos de un iterable (por ejemplo, otra lista) al final de la lista"
   ]
  },
  {
   "cell_type": "code",
   "execution_count": null,
   "metadata": {},
   "outputs": [],
   "source": [
    "a = [0, 1, 2]\n",
    "a.insert(1, 100)\n",
    "a"
   ]
  },
  {
   "cell_type": "code",
   "execution_count": null,
   "metadata": {},
   "outputs": [],
   "source": [
    "a = [0, 1, 2]\n",
    "b = [10, 11, 12]\n",
    "a.extend(b)\n",
    "a"
   ]
  },
  {
   "cell_type": "markdown",
   "metadata": {},
   "source": [
    "Un método eqivalente a `extend` es asignar una lista a una *slice* de la que se desea modificar **después** del último elemento de esta."
   ]
  },
  {
   "cell_type": "code",
   "execution_count": null,
   "metadata": {},
   "outputs": [],
   "source": [
    "a = [0, 1, 2]\n",
    "b = [10, 11, 12, 13]\n",
    "a[len(a):] = b   # El último elemento de a es a[len(a)-1], ¿cierto?\n",
    "a"
   ]
  },
  {
   "cell_type": "markdown",
   "metadata": {},
   "source": [
    "<div class=\"alert alert-block alert-info\">\n",
    "    <b>Contesta</b>: Cómo interpretas la <i>slice</i> a la que se le hizo la asignación en el último ejemplo?<p>\n",
    "    <code>a[len(a):]</code><p><p>\n",
    "    ¿Dónde inicia, dónde termina? ¿Por qué se dice que está <i>después</i> del final de la lista?\n",
    "</div>"
   ]
  },
  {
   "cell_type": "markdown",
   "metadata": {},
   "source": [
    "Respuesta: "
   ]
  },
  {
   "cell_type": "markdown",
   "metadata": {},
   "source": [
    "## Eliminando elementos de una lista\n",
    "\n",
    "### `del`\n",
    "\n",
    "`del` borra un elemento de la lista especificado por su posición."
   ]
  },
  {
   "cell_type": "code",
   "execution_count": null,
   "metadata": {},
   "outputs": [],
   "source": [
    "print(\"Original:\", comunidad)\n",
    "del(comunidad[2])   # Borrar el elemento en posición 2\n",
    "print(\"Después: \", comunidad)"
   ]
  },
  {
   "cell_type": "markdown",
   "metadata": {},
   "source": [
    "### `remove`\n",
    "\n",
    "`remove`elimina el primer elemento que coincida con su parámetro. Ocasiona un error si no lo encuentra."
   ]
  },
  {
   "cell_type": "code",
   "execution_count": null,
   "metadata": {},
   "outputs": [],
   "source": [
    "comunidad.remove(\"Boromir\")\n",
    "comunidad"
   ]
  },
  {
   "cell_type": "markdown",
   "metadata": {},
   "source": [
    "### `pop`\n",
    "\n",
    "`pop` elimina el último elemento de la lista pero, adicionalmente, regresa el valor eliminado. Es muy usado para procesar uno a uno los elementos de una lista, comenzando por el último, hasta que queda vacía. \n",
    "\n",
    "Este tipo de procesos, en donde el último elemento añadido es el primer elemento procesado (LIFO: *last in, first out*) reciben el nombre de ***pilas*** (*stacks* en inglés) y es un patrón recurrente en programación."
   ]
  },
  {
   "cell_type": "code",
   "execution_count": null,
   "metadata": {},
   "outputs": [],
   "source": [
    "comunidad = [\"Gandalf\", \"Frodo\", \"Sam\", \"Aragorn\", \"Legolas\", \"Gimli\", \"Pippin\", \"Merry\", \"Boromir\"]\n",
    "print(\"Lista original:\", comunidad)\n",
    "print()\n",
    "while comunidad:\n",
    "    siguiente = comunidad.pop()\n",
    "    print(\"Procesando:\", siguiente)\n",
    "    print(\"Restante:\", comunidad)\n",
    "    print()\n",
    "print(\"Lista final:\", comunidad)"
   ]
  },
  {
   "cell_type": "markdown",
   "metadata": {},
   "source": [
    "Un proceso similar, pero en el cual el primer elemento añadido es el primero procesado (FIFO: *first in, first out*), también es recurrente en programación y recibe el nombre de ***filas*** (*queues* en inglés).\n",
    "\n",
    "El método `pop` admite un parámetro opcional, la posición de la cual extraer el elemento, por lo tanto, también se pueden implementar las filas usando listas y `pop`, indicando la posición `0`, aunque esto no es muy eficiente. (Es eficiente añadir y quitar elementos del final de una lista, hacerlo al principio o en una posición intermedia, no es eficiente porque hay que desplazar de lugar el resto de los elementos.)"
   ]
  },
  {
   "cell_type": "code",
   "execution_count": null,
   "metadata": {},
   "outputs": [],
   "source": [
    "comunidad = [\"Gandalf\", \"Frodo\", \"Sam\", \"Aragorn\", \"Legolas\", \"Gimli\", \"Pippin\", \"Merry\", \"Boromir\"]\n",
    "print(\"Lista original:\", comunidad)\n",
    "print()\n",
    "while comunidad:\n",
    "    siguiente = comunidad.pop(0)\n",
    "    print(\"Procesando:\", siguiente)\n",
    "    print(\"Restante:\", comunidad)\n",
    "    print()\n",
    "print(\"Lista final:\", comunidad)"
   ]
  },
  {
   "cell_type": "markdown",
   "metadata": {},
   "source": [
    "<div class=\"alert alert-block alert-info\">\n",
    "    <b>Contesta</b>: Cuáles fueron las diferencias entre los últimos dos ejemplos? En particular, ¿cómo cambio el uso de <code>pop</code> y el orden en que se \"procesó\" la lista?\n",
    "</div>"
   ]
  },
  {
   "cell_type": "markdown",
   "metadata": {},
   "source": [
    "Respuesta: "
   ]
  },
  {
   "cell_type": "markdown",
   "metadata": {},
   "source": [
    "### `clear`\n",
    "\n",
    "Finalmente, `clear` elimina todos los elementos de una lista."
   ]
  },
  {
   "cell_type": "code",
   "execution_count": null,
   "metadata": {},
   "outputs": [],
   "source": [
    "print(avengers)\n",
    "avengers.clear()\n",
    "print(avengers)"
   ]
  },
  {
   "cell_type": "markdown",
   "metadata": {},
   "source": [
    "## Funciones y métodos de listas\n",
    "\n",
    "### `list`\n",
    "\n",
    "Tenemos la función `list` que es la constructora de listas.\n",
    "\n",
    "`list()` sin argumentos regresa la lista vacía, de tal forma que:\n",
    "\n",
    "```python\n",
    "a = list()\n",
    "```\n",
    "Es equivalente a:\n",
    "```python\n",
    "a = []\n",
    "```\n",
    "\n",
    "También podemos indicar como argumento de `list` un iterable y cada elemento del iterable se convierte en un elemento de la lista creada.\n",
    "\n",
    "Por ejemplo, una cadena es iterable, y cada carácter se convertiría en un elemento de la lista."
   ]
  },
  {
   "cell_type": "code",
   "execution_count": null,
   "metadata": {},
   "outputs": [],
   "source": [
    "frase = \"Esto es un ejemplo.\"\n",
    "letras = list(frase)\n",
    "letras"
   ]
  },
  {
   "cell_type": "markdown",
   "metadata": {},
   "source": [
    "### `range`\n",
    "\n",
    "Existe la función `range`, que es una generadora de secuencias. En particular, genera una secuencia de números enteros en un rango dado. \n",
    "\n",
    "Si se le llama con un parámetro (`range(n)`), genera la secuencia desde `0` hasta `n-1`. \n",
    "\n",
    "Si se le llama con dos parámetros (`range(n, m)`), genera la secuencia desde `n` hasta `n-1`. \n",
    "\n",
    "Si se le llama con tres parámetros (`range(n, m, p)`), genera la secuencia: `n`, `n+p`, `n+2p`, ..., `n+ip`, ..., `n+qp < m`.\n",
    "\n",
    "Si se combina la generadora `range` con la constructora `list`, el rango generado se convierte en una lista."
   ]
  },
  {
   "cell_type": "code",
   "execution_count": null,
   "metadata": {},
   "outputs": [],
   "source": [
    "rango = range(10)\n",
    "lista = list(range(10))\n",
    "print(rango)\n",
    "print(lista)"
   ]
  },
  {
   "cell_type": "markdown",
   "metadata": {},
   "source": [
    "### `max`, `min`, `sum` y `len`\n",
    "\n",
    "Las funciones `max`, `min`, `sum` y `len` regresan, respectivamente, el elemento mayor, el menor, la suma de los elementos y el número de elementos de una lista (y otro iterable)."
   ]
  },
  {
   "cell_type": "markdown",
   "metadata": {},
   "source": [
    "<div class=\"alert alert-block alert-info\">\n",
    "    <b>Ejercicio</b>: Completa el código de  la siguiente celda para calcular los estadísticos de la muestra. <i>Muestra</i> los resultados con dos decimales.<p>\n",
    "    <b><i>Tip</i></b>: ¿Servirán de algo las funciones <code>sum</code> y <code>len</code>?\n",
    "</div>"
   ]
  },
  {
   "cell_type": "code",
   "execution_count": null,
   "metadata": {},
   "outputs": [],
   "source": [
    "import random\n",
    "muestra = random.sample(range(1000), k=17)\n",
    "minimo =\n",
    "maximo =\n",
    "promedio = \n",
    "print(f\"Muestra: {muestra}\")\n",
    "print(f\"Mínimo: {}\",)\n",
    "print(\"Máximo:\")\n",
    "print(\"Promedio:\")\n"
   ]
  },
  {
   "cell_type": "markdown",
   "metadata": {},
   "source": [
    "### `sorted` y `sort`\n",
    "\n",
    "La función `sorted` y el método `sort` se utilizan para ordenar iterables, entre ellos, listas.\n",
    "\n",
    "La función `sorted` **no** modifica el iterable, sino que regresa una copia del iterable en orden.\n",
    "\n",
    "El método `sort` **sí** modifica el iterable.\n",
    "\n",
    "Ambos tienen un parámtero opcional, `reverse` para indicar si se desea el orden inverso (de mayor a menor)."
   ]
  },
  {
   "cell_type": "code",
   "execution_count": null,
   "metadata": {},
   "outputs": [],
   "source": [
    "x = random.sample(range(1000), k=15)\n",
    "print(\"Lista original: x =\", x)\n",
    "y = sorted(x)\n",
    "print(\"Lista ordenada: y =\", y)\n",
    "print(\"x sigue igual:  x =\", x)\n",
    "x.sort(reverse=True)   # Ojo: no hay asignación\n",
    "print(\"x modificada:   x =\", x)"
   ]
  },
  {
   "cell_type": "markdown",
   "metadata": {},
   "source": [
    "### Sigue explorando las listas\n",
    "\n",
    "Existen más funciones y métodos de listas, y los expuestos tienen más parámetros que los aquí presentados. Para más detalles, se puede consultar la documentación oficial: https://docs.python.org/3/tutorial/datastructures.html"
   ]
  },
  {
   "cell_type": "markdown",
   "metadata": {},
   "source": [
    "## Ejercicios\n",
    "\n",
    "Continuando con el desarrollo del sistema de control de alumnos, vamos a guardar los datos de los alumnos en una estructura de la siguiente forma:\n",
    "\n",
    "- Tendremos una lista `alumnos` con los datos de todos los alumnos.\n",
    "- De esta manera, cada alumno, será un elemento de la lista `alumnos`.\n",
    "- Al mismo tiempo, cada alumno será, a su vez, una lista.\n",
    " - El primer elemento de la lista, será el nombre del alumno.\n",
    " - El segundo elemento, una lista con sus calificaciones.\n",
    " - El tercer elemento, el promedio de las calificaciones.\n",
    " \n",
    "Por ejemplo:\n",
    "```python\n",
    "alumnos = [\n",
    "    [\"Scott Summers\", [85, 90, 80], 85.0],        # Primer alumno\n",
    "    [\"Bobby Drake\", [60, 60, 50, 60], 57.5],      # Segundo alumno\n",
    "    [\"Hank McCoy\", [100, 100, 100, 100], 100.0]   # Tercer alumno\n",
    "]\n",
    "```\n",
    "\n",
    "Todos los alumnos están en una lista, cada alumno es una lista y, adentro de esa lista, hay otra lista con sus respectivas calificaciones. Estamos manejando listas anidadas en tres niveles: listas adentro de listas adentro de listas.\n",
    "\n",
    "Nos vamos a ir por partes para poder darle entrada a todos los elementos de esta estructura."
   ]
  },
  {
   "cell_type": "markdown",
   "metadata": {},
   "source": [
    "<div class=\"alert alert-block alert-info\">\n",
    "    <b>Primera parte</b>: Completa el código de la celda de abajo para construir una lista con las calificaciones de un alumno.<p>\n",
    "    Para indicar el final de la entrada de datos, utilizaremos el valor centinela <code>-1</code>.<p>\n",
    "    Al final, calcula el promedio de las calificaciones.<p>\n",
    "    Puedes usar el mismo código que para el ejercicio de las estaturas más arriba, ya sea usando <i>expresiones de asignación</i> (operador <i>walrus</i>) o duplicando el <code>input</code> (una vez fuera del ciclo y otra vez dentro).\n",
    "</div>"
   ]
  },
  {
   "cell_type": "code",
   "execution_count": null,
   "metadata": {},
   "outputs": [],
   "source": [
    "# Inicializa la lista calificaciones\n",
    "calificaciones = \n",
    "# En un ciclo, ve pidiendo cada calificación\n",
    "\n",
    "\n",
    "# Calcula el promedio\n",
    "promedio =\n",
    "\n",
    "# Muestra las dos variables\n",
    "print(calificaciones, promedio)"
   ]
  },
  {
   "cell_type": "markdown",
   "metadata": {},
   "source": [
    "<div class=\"alert alert-block alert-info\">\n",
    "    <b>Segunda parte</b>: Completa el código de abajo para también: <ol>\n",
    "    <li>Solicitar, al inicio, el nombre del alumno,</li>\n",
    "    <li>Introducir las calificaciones del alumno,</li>\n",
    "    <li>Calcular el promedio, y</li>\n",
    "    <li>Al final, colocar los tres elementos (<code>nombre</code>, <code>calificaciones</code> y <code>promedio</code>) en la lista <code>alumno</code>.</li>\n",
    "</div>"
   ]
  },
  {
   "cell_type": "code",
   "execution_count": null,
   "metadata": {},
   "outputs": [],
   "source": [
    "# Solicitar el nombre del alumno\n",
    "nombre =\n",
    "\n",
    "# Enseguida, va el mismo código que usaste arriba\n",
    "\n",
    "# --------------- Insertar código ---------------\n",
    "# Inicializar lista calificaciones\n",
    "calificaciones = \n",
    "# En un ciclo, ir pidiendo cada calificación\n",
    "\n",
    "\n",
    "# Calcular el promedio\n",
    "promedio =\n",
    "# ---------- Termina código insertado -----------\n",
    "\n",
    "# Ahora, poner los tres elementos en una lista\n",
    "alumno = []\n",
    "# Mostrar cómo quedó\n",
    "print(alumno)"
   ]
  },
  {
   "cell_type": "markdown",
   "metadata": {},
   "source": [
    "<div class=\"alert alert-block alert-info\">\n",
    "    <b>Tercera parte</b>: Completa el código de abajo para colocar el código que escribiste antes dentro de un ciclo que se va a repetir hasta que se hayan introducido los datos de todos los alumnos: <ol>\n",
    "    <li>Inicializar la lista <code>alumnos</code>.</li>\n",
    "    <li>Solicitar el nombre del alumno. Hay que pensar en un valor centinela para indicar que ya se terminó con la captura de alumnos, puede ser la cadena vacía (<code>\"\"</code>).</li>\n",
    "    <li>Si se dio un nombre de alumno:</li>\n",
    "    <ol>\n",
    "        <li>Introducir las calificaciones del alumno,</li>\n",
    "        <li>Calcular el promedio,</li>\n",
    "        <li>Colocar <code>nombre</code>, <code>calificaciones</code> y <code>promedio</code> en la lista <code>alumno</code>, y</li>\n",
    "        <li>Añadir la lista <code>alumno</code> recién creada a la lista maestra <code>alumnos</code>.\n",
    "</div>"
   ]
  },
  {
   "cell_type": "code",
   "execution_count": null,
   "metadata": {},
   "outputs": [],
   "source": [
    "# Inicializa la lista alumnos\n",
    "alumnos =\n",
    "\n",
    "# Inicia el ciclo de captura de alumnos\n",
    "# Va a ser, esencialmente, el mismo código que usaste en la celda de código anterior\n",
    "# con el detalle de que el input del nombre del alumno debe controlar si se van a\n",
    "# capturar calificaciones o ya se terminó con la captura\n",
    "\n",
    "# El input del nombre puede venir aquí o se puede usar una \n",
    "# expresuión de asignación en la condición del while.\n",
    "\n",
    "while <pon aquí tu condición>:   # Este while es para llenar la lista alumnos\n",
    "    # Enseguida va el código que desarrollaste en la celda de arriba\n",
    "    # Va a ser, esencialmente, el mismo. La única diferencia va a ser que se\n",
    "    # va a mover el input del nombre del alumno, porque es lo que va a controlar\n",
    "    # el ciclo while externo (¿ya se capturaron todos los alumnos o capturar un\n",
    "    # nuevo alumno)\n",
    "    # --------------- Insertar código ---------------\n",
    "    \n",
    "    # ---------- Termina código insertado -----------\n",
    "    # Añadir la lista alumno a la lista maestra alumnos\n",
    "    \n",
    "# Al final, mostrar la lista alumnos"
   ]
  }
 ],
 "metadata": {
  "kernelspec": {
   "display_name": "Python 3",
   "language": "python",
   "name": "python3"
  },
  "language_info": {
   "codemirror_mode": {
    "name": "ipython",
    "version": 3
   },
   "file_extension": ".py",
   "mimetype": "text/x-python",
   "name": "python",
   "nbconvert_exporter": "python",
   "pygments_lexer": "ipython3",
   "version": "3.8.3-final"
  }
 },
 "nbformat": 4,
 "nbformat_minor": 4
}